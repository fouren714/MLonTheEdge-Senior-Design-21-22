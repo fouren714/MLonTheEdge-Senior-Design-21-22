{
 "cells": [
  {
   "cell_type": "code",
   "execution_count": null,
   "metadata": {
    "id": "9h4bqrTqv1EV"
   },
   "outputs": [],
   "source": [
    "from tensorflow import keras\n",
    "import tensorflow_datasets as tfds\n",
    "%matplotlib inline\n",
    "import matplotlib.pyplot as plt\n",
    "import matplotlib.image as mpimg\n",
    "\n",
    "import os\n",
    "import tensorflow as tf\n",
    "import numpy as np\n",
    "import glob\n",
    "from shutil import copyfile\n",
    "from PIL import Image"
   ]
  },
  {
   "cell_type": "code",
   "execution_count": null,
   "metadata": {
    "id": "EW1cE9kAVttk"
   },
   "outputs": [],
   "source": [
    "!git clone https://github.com/ultralytics/yolov3\n",
    "%cd yolov3\n",
    "!pip install -r requirements.txt\n",
    "\n",
    "import pathlib\n",
    "import os\n",
    "import cv2\n",
    "import zipfile\n",
    "from os import path\n",
    "import shutil\n",
    "import csv\n",
    "import random\n",
    "import numpy as np"
   ]
  },
  {
   "cell_type": "markdown",
   "metadata": {
    "id": "m952YYfPVvKo"
   },
   "source": [
    "#Refer to Notebooks/Yolov5/SeniorDesignYolov5.ipynb to compress the files and then upload the .zip file."
   ]
  },
  {
   "cell_type": "code",
   "execution_count": null,
   "metadata": {
    "id": "zS7RMLg7YGFY"
   },
   "outputs": [],
   "source": [
    "!unzip ./LPCVtrain.zip"
   ]
  },
  {
   "cell_type": "code",
   "execution_count": null,
   "metadata": {
    "id": "dD_SKy7ebSZC"
   },
   "outputs": [],
   "source": [
    "%mkdir ./LPCV/valid\n",
    "%mkdir ./LPCV/valid/images\n",
    "%mkdir ./LPCV/valid/labels"
   ]
  },
  {
   "cell_type": "code",
   "execution_count": null,
   "metadata": {
    "id": "25xA556wy8uZ"
   },
   "outputs": [],
   "source": [
    "def contrast_image(image, new_image, folder):\n",
    "    img = Image.open(folder+'/images/'+image)\n",
    "    img = np.array(img)\n",
    "    img = tf.image.random_contrast(img, 2, 5, 42)\n",
    "    img = img.numpy()\n",
    "    im = Image.fromarray(img)\n",
    "    im.save(folder+'/images/'+new_image)\n",
    "    copy_label(image, \"contrast\", folder)\n",
    "def noise_image(image, new_image, folder):\n",
    "    img = Image.open(folder+'/images/'+image)\n",
    "    img = np.array(img)\n",
    "    img = tf.image.stateless_random_jpeg_quality(img, 2, 20, (42,42))\n",
    "    img = img.numpy()\n",
    "    im = Image.fromarray(img)\n",
    "    im.save(folder+'/images/'+new_image)\n",
    "    copy_label(image, \"noise\", folder)\n",
    "def grayscale_image(image, new_image, folder):\n",
    "    img = Image.open(folder+'/images/'+image)\n",
    "    img = np.array(img)\n",
    "    img = tf.image.rgb_to_grayscale(img)\n",
    "    img = img.numpy()\n",
    "    img = img.reshape((img.shape[0], img.shape[1]))\n",
    "    im = Image.fromarray(img, 'L')\n",
    "    im.save(folder+'/images/'+new_image)\n",
    "    copy_label(image, \"grayscale\", folder)\n",
    "def saturate_image(image, new_image, folder):\n",
    "    img = Image.open(folder+'/images/'+image)\n",
    "    img = np.array(img)\n",
    "    img = tf.image.random_saturation(img, 2, 120, 42)\n",
    "    img = img.numpy()\n",
    "    im = Image.fromarray(img)\n",
    "    im.save(folder+'/images/'+new_image)\n",
    "    copy_label(image, \"saturate\", folder)\n",
    "def hue_image(image, new_image, folder):\n",
    "    img = Image.open(folder+'/images/'+image)\n",
    "    img = np.array(img)\n",
    "    img = tf.image.random_hue(img, 0.1)\n",
    "    img = img.numpy()\n",
    "    im = Image.fromarray(img)\n",
    "    im.save(folder+'/images/'+new_image)\n",
    "    copy_label(image, \"hue\", folder)\n",
    "def flip_image_lr(image, new_image, folder):\n",
    "    img = Image.open(folder+'/images/'+image)\n",
    "    img = np.array(img)\n",
    "    img = tf.image.flip_left_right(img)\n",
    "    img = img.numpy()\n",
    "    im = Image.fromarray(img)\n",
    "    im.save(folder+'/images/'+new_image)\n",
    "    flip_label_lr(image[:image.find('.')]+\".txt\", image[:image.find('.')]+\"_flip_lr.txt\", folder)\n",
    "def flip_image_ud(image, new_image, folder):\n",
    "    img = Image.open(folder+'/images/'+image)\n",
    "    img = np.array(img)\n",
    "    img = tf.image.flip_up_down(img)\n",
    "    img = img.numpy()\n",
    "    im = Image.fromarray(img)\n",
    "    im.save(folder+'/images/'+new_image)\n",
    "    flip_label_ud(image[:image.find('.')]+\".txt\", image[:image.find('.')]+\"_flip_ud.txt\", folder)\n",
    "def rot_90(image, new_image, folder):\n",
    "    img = Image.open(folder+'/images/'+image)\n",
    "    img = np.array(img)\n",
    "    img = tf.image.rot90(img)\n",
    "    img = img.numpy()\n",
    "    im = Image.fromarray(img)\n",
    "    im.save(folder+'/images/'+new_image)\n",
    "    label_rot_90(image[:image.find('.')]+\".txt\", image[:image.find('.')]+\"_rot_90.txt\", folder)\n",
    "def flip_label_lr(label_file, new_label_file, folder):\n",
    "    label_file = folder+\"/labels/\"+label_file\n",
    "    new_label_file = folder+\"/labels/\"+new_label_file\n",
    "    with open(label_file) as f:\n",
    "        lines = f.readlines()\n",
    "        new_lines = []\n",
    "        for x in lines:\n",
    "            words = x.split(\" \")\n",
    "            words[1] = str(1-float(words[1]))\n",
    "            new_lines.append(\" \".join(words))\n",
    "    f.close()\n",
    "    with open(new_label_file, 'w') as f:\n",
    "        for x in new_lines:\n",
    "            f.write(x)\n",
    "def flip_label_ud(label_file, new_label_file, folder):\n",
    "    label_file = folder+\"/labels/\"+label_file\n",
    "    new_label_file = folder+\"/labels/\"+new_label_file\n",
    "    with open(label_file) as f:\n",
    "        lines = f.readlines()\n",
    "        new_lines = []\n",
    "        for x in lines:\n",
    "            words = x.split(\" \")\n",
    "            words[2] = str(1-float(words[2]))\n",
    "            new_lines.append(\" \".join(words))\n",
    "    f.close()\n",
    "    with open(new_label_file, 'w') as f:\n",
    "        for x in new_lines:\n",
    "            f.write(x)\n",
    "def label_rot_90(label_file, new_label_file, folder):\n",
    "    label_file = folder+\"/labels/\"+label_file\n",
    "    new_label_file = folder+\"/labels/\"+new_label_file\n",
    "    with open(label_file) as f:\n",
    "        lines = f.readlines()\n",
    "        new_lines = []\n",
    "        for x in lines:\n",
    "            words = x.split(\" \")\n",
    "            x = words[1]\n",
    "            y = words[2]\n",
    "            w = words[3]\n",
    "            h = words[4]\n",
    "            words[1] = y\n",
    "            words[2] = str(1-float(x))\n",
    "            words[3] = h\n",
    "            words[4] = w\n",
    "            new_lines.append(\" \".join(words))\n",
    "    f.close()\n",
    "    with open(new_label_file, 'w') as f:\n",
    "        for x in new_lines:\n",
    "            f.write(x)\n",
    "def copy_label(image, augmentation, folder):\n",
    "    filename = image[:image.find('.')]\n",
    "    new_filename = folder+'/labels/'+filename+'_'+augmentation+'.txt'\n",
    "    filename = folder+'/labels/'+filename+'.txt'\n",
    "    copyfile(filename, new_filename)"
   ]
  },
  {
   "cell_type": "code",
   "execution_count": null,
   "metadata": {
    "id": "xAd0zgmGzL6B"
   },
   "outputs": [],
   "source": [
    "aug_list = ['_contrast', '_noise', '_flip_lr', '_flip_ud', '_rot_90', '_saturate', '_hue']\n",
    "data_dir = \"./LPCV/train\""
   ]
  },
  {
   "cell_type": "code",
   "execution_count": null,
   "metadata": {
    "id": "5x_exOYUzPrL"
   },
   "outputs": [],
   "source": [
    "for root, dirs, files in os.walk(data_dir+'/images/', topdown=False):\n",
    "    for file in files:\n",
    "      count = 0\n",
    "      for j in aug_list:\n",
    "        filename = file[:file.find('.')]+j+file[file.find('.'):]\n",
    "        if count==0: contrast_image(file, filename, data_dir)\n",
    "        if count==1: noise_image(file, filename, data_dir)\n",
    "        if count==2: flip_image_lr(file, filename, data_dir)\n",
    "        if count==3: flip_image_ud(file, filename, data_dir)\n",
    "        if count==4: rot_90(file, filename, data_dir)\n",
    "        if count==5: saturate_image(file, filename, data_dir)\n",
    "        if count==6: hue_image(file, filename, data_dir)\n",
    "        count+=1"
   ]
  },
  {
   "cell_type": "code",
   "execution_count": null,
   "metadata": {
    "id": "mxxm60lZXigF"
   },
   "outputs": [],
   "source": [
    "for root, dirs, files in os.walk(data_dir+'/images/', topdown=False):\n",
    "    for file in files:\n",
    "        filename = file[:file.find('.')]+\"_grayscale\"+file[file.find('.'):]\n",
    "        grayscale_image(file, filename, data_dir)"
   ]
  },
  {
   "cell_type": "code",
   "execution_count": null,
   "metadata": {
    "id": "w8qCdzcr5dK-"
   },
   "outputs": [],
   "source": [
    "def moveFiles(src, dst):\n",
    "  files = []\n",
    "  for i in os.listdir(src):\n",
    "    files.append(i)\n",
    "  files = sorted(files)\n",
    "  listt = np.random.RandomState(seed=12).permutation(files)[:300]\n",
    "  for f in listt:\n",
    "    shutil.copy(os.path.join(src, f), dst)\n",
    "    p = os.path.join(src, f)\n",
    "    os.remove(p)"
   ]
  },
  {
   "cell_type": "code",
   "execution_count": null,
   "metadata": {
    "id": "ib6rOkLo5iZW"
   },
   "outputs": [],
   "source": [
    "moveFiles(\"./LPCV/train/images\", \"./LPCV/valid/images\")\n",
    "moveFiles(\"./LPCV/train/labels\", \"./LPCV/valid/labels\")"
   ]
  },
  {
   "cell_type": "code",
   "execution_count": null,
   "metadata": {
    "id": "0RKp4YPe53E0"
   },
   "outputs": [],
   "source": [
    "data = open(\"data.yaml\", \"w\")\n",
    "data.write(\"train: /content/yolov3/content/yolov3/LPCV/train/images\\nval: /content/yolov3/content/yolov3/LPCV/valid/images\\nnc: 2\\nnames: [\\'person\\', \\'sports-ball\\']\")\n",
    "data.close()"
   ]
  },
  {
   "cell_type": "code",
   "execution_count": null,
   "metadata": {
    "id": "htfcx4trJq4V"
   },
   "outputs": [],
   "source": [
    "!python train.py --img 416 --batch 150 --epochs 20 --data data.yaml --weights yolov3-tiny.pt"
   ]
  },
  {
   "cell_type": "code",
   "execution_count": null,
   "metadata": {
    "id": "6X2PXMAefeSY"
   },
   "outputs": [],
   "source": [
    "!python detect.py --weights ./runs/train/exp/weights/best.pt --img 256 --conf 0.25 --source 5p5b_03A1.mp4 # uplaod one of the videos"
   ]
  },
  {
   "cell_type": "code",
   "execution_count": null,
   "metadata": {
    "id": "5SiWLouRZDIB"
   },
   "outputs": [],
   "source": [
    "!python /content/yolov3/val.py --weights /content/yolov3/runs/train/exp/weights/best.pt --img 640 --data /content/yolov3/data.yaml"
   ]
  },
  {
   "cell_type": "code",
   "execution_count": null,
   "metadata": {
    "id": "8-Rn75LQ4x-Q"
   },
   "outputs": [],
   "source": [
    "!python export.py --weights ./runs/train/exp/weights/best.pt --include tflite --img-size 256\n",
    "\n",
    "\n",
    "# not working as Dec/21"
   ]
  }
 ],
 "metadata": {
  "language_info": {
   "name": "python"
  },
  "orig_nbformat": 4
 },
 "nbformat": 4,
 "nbformat_minor": 2
}
